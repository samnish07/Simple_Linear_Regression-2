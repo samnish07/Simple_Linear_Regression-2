{
 "cells": [
  {
   "cell_type": "markdown",
   "id": "7f50f2c5",
   "metadata": {},
   "source": [
    "### Salary_hike -> Build a prediction model for Salary_hike"
   ]
  },
  {
   "cell_type": "code",
   "execution_count": 1,
   "id": "3926c8a5",
   "metadata": {},
   "outputs": [],
   "source": [
    "import pandas as pd\n",
    "import numpy as np\n",
    "import seaborn as sns\n",
    "import matplotlib.pyplot as plt\n",
    "%matplotlib inline\n",
    "from scipy import stats"
   ]
  },
  {
   "cell_type": "code",
   "execution_count": 32,
   "id": "89c688f2",
   "metadata": {},
   "outputs": [
    {
     "data": {
      "text/html": [
       "<div>\n",
       "<style scoped>\n",
       "    .dataframe tbody tr th:only-of-type {\n",
       "        vertical-align: middle;\n",
       "    }\n",
       "\n",
       "    .dataframe tbody tr th {\n",
       "        vertical-align: top;\n",
       "    }\n",
       "\n",
       "    .dataframe thead th {\n",
       "        text-align: right;\n",
       "    }\n",
       "</style>\n",
       "<table border=\"1\" class=\"dataframe\">\n",
       "  <thead>\n",
       "    <tr style=\"text-align: right;\">\n",
       "      <th></th>\n",
       "      <th>YearsExperience</th>\n",
       "      <th>Salary</th>\n",
       "    </tr>\n",
       "  </thead>\n",
       "  <tbody>\n",
       "    <tr>\n",
       "      <th>0</th>\n",
       "      <td>1.1</td>\n",
       "      <td>39343.0</td>\n",
       "    </tr>\n",
       "    <tr>\n",
       "      <th>1</th>\n",
       "      <td>1.3</td>\n",
       "      <td>46205.0</td>\n",
       "    </tr>\n",
       "    <tr>\n",
       "      <th>2</th>\n",
       "      <td>1.5</td>\n",
       "      <td>37731.0</td>\n",
       "    </tr>\n",
       "    <tr>\n",
       "      <th>3</th>\n",
       "      <td>2.0</td>\n",
       "      <td>43525.0</td>\n",
       "    </tr>\n",
       "    <tr>\n",
       "      <th>4</th>\n",
       "      <td>2.2</td>\n",
       "      <td>39891.0</td>\n",
       "    </tr>\n",
       "  </tbody>\n",
       "</table>\n",
       "</div>"
      ],
      "text/plain": [
       "   YearsExperience   Salary\n",
       "0              1.1  39343.0\n",
       "1              1.3  46205.0\n",
       "2              1.5  37731.0\n",
       "3              2.0  43525.0\n",
       "4              2.2  39891.0"
      ]
     },
     "execution_count": 32,
     "metadata": {},
     "output_type": "execute_result"
    }
   ],
   "source": [
    "df=pd.read_csv('Salary_Data.csv')\n",
    "df.head()"
   ]
  },
  {
   "cell_type": "code",
   "execution_count": 3,
   "id": "44701f49",
   "metadata": {},
   "outputs": [
    {
     "name": "stdout",
     "output_type": "stream",
     "text": [
      "<class 'pandas.core.frame.DataFrame'>\n",
      "RangeIndex: 30 entries, 0 to 29\n",
      "Data columns (total 2 columns):\n",
      " #   Column           Non-Null Count  Dtype  \n",
      "---  ------           --------------  -----  \n",
      " 0   YearsExperience  30 non-null     float64\n",
      " 1   Salary           30 non-null     float64\n",
      "dtypes: float64(2)\n",
      "memory usage: 608.0 bytes\n"
     ]
    }
   ],
   "source": [
    "df.info()"
   ]
  },
  {
   "cell_type": "code",
   "execution_count": 4,
   "id": "8826133d",
   "metadata": {},
   "outputs": [
    {
     "data": {
      "text/plain": [
       "YearsExperience    float64\n",
       "Salary             float64\n",
       "dtype: object"
      ]
     },
     "execution_count": 4,
     "metadata": {},
     "output_type": "execute_result"
    }
   ],
   "source": [
    "df.dtypes"
   ]
  },
  {
   "cell_type": "code",
   "execution_count": 5,
   "id": "ef703d48",
   "metadata": {},
   "outputs": [
    {
     "data": {
      "text/plain": [
       "Index(['YearsExperience', 'Salary'], dtype='object')"
      ]
     },
     "execution_count": 5,
     "metadata": {},
     "output_type": "execute_result"
    }
   ],
   "source": [
    "df.columns"
   ]
  },
  {
   "cell_type": "code",
   "execution_count": 6,
   "id": "b004d8c3",
   "metadata": {},
   "outputs": [
    {
     "data": {
      "text/plain": [
       "(30, 2)"
      ]
     },
     "execution_count": 6,
     "metadata": {},
     "output_type": "execute_result"
    }
   ],
   "source": [
    "df.shape"
   ]
  },
  {
   "cell_type": "code",
   "execution_count": 7,
   "id": "450cae6f",
   "metadata": {},
   "outputs": [
    {
     "data": {
      "text/plain": [
       "30"
      ]
     },
     "execution_count": 7,
     "metadata": {},
     "output_type": "execute_result"
    }
   ],
   "source": [
    "len(df)"
   ]
  },
  {
   "cell_type": "code",
   "execution_count": 8,
   "id": "d5799d54",
   "metadata": {},
   "outputs": [
    {
     "data": {
      "text/plain": [
       "0"
      ]
     },
     "execution_count": 8,
     "metadata": {},
     "output_type": "execute_result"
    }
   ],
   "source": [
    "df.isnull().sum().sum()"
   ]
  },
  {
   "cell_type": "code",
   "execution_count": 9,
   "id": "fc8991c3",
   "metadata": {},
   "outputs": [
    {
     "data": {
      "text/plain": [
       "0"
      ]
     },
     "execution_count": 9,
     "metadata": {},
     "output_type": "execute_result"
    }
   ],
   "source": [
    "df.duplicated().sum()"
   ]
  },
  {
   "cell_type": "code",
   "execution_count": 10,
   "id": "cc31a7ce",
   "metadata": {},
   "outputs": [
    {
     "data": {
      "text/html": [
       "<div>\n",
       "<style scoped>\n",
       "    .dataframe tbody tr th:only-of-type {\n",
       "        vertical-align: middle;\n",
       "    }\n",
       "\n",
       "    .dataframe tbody tr th {\n",
       "        vertical-align: top;\n",
       "    }\n",
       "\n",
       "    .dataframe thead th {\n",
       "        text-align: right;\n",
       "    }\n",
       "</style>\n",
       "<table border=\"1\" class=\"dataframe\">\n",
       "  <thead>\n",
       "    <tr style=\"text-align: right;\">\n",
       "      <th></th>\n",
       "      <th>count</th>\n",
       "      <th>mean</th>\n",
       "      <th>std</th>\n",
       "      <th>min</th>\n",
       "      <th>25%</th>\n",
       "      <th>50%</th>\n",
       "      <th>75%</th>\n",
       "      <th>max</th>\n",
       "    </tr>\n",
       "  </thead>\n",
       "  <tbody>\n",
       "    <tr>\n",
       "      <th>YearsExperience</th>\n",
       "      <td>30.0</td>\n",
       "      <td>5.31</td>\n",
       "      <td>2.84</td>\n",
       "      <td>1.1</td>\n",
       "      <td>3.20</td>\n",
       "      <td>4.7</td>\n",
       "      <td>7.70</td>\n",
       "      <td>10.5</td>\n",
       "    </tr>\n",
       "    <tr>\n",
       "      <th>Salary</th>\n",
       "      <td>30.0</td>\n",
       "      <td>76003.00</td>\n",
       "      <td>27414.43</td>\n",
       "      <td>37731.0</td>\n",
       "      <td>56720.75</td>\n",
       "      <td>65237.0</td>\n",
       "      <td>100544.75</td>\n",
       "      <td>122391.0</td>\n",
       "    </tr>\n",
       "  </tbody>\n",
       "</table>\n",
       "</div>"
      ],
      "text/plain": [
       "                 count      mean       std      min       25%      50%  \\\n",
       "YearsExperience   30.0      5.31      2.84      1.1      3.20      4.7   \n",
       "Salary            30.0  76003.00  27414.43  37731.0  56720.75  65237.0   \n",
       "\n",
       "                       75%       max  \n",
       "YearsExperience       7.70      10.5  \n",
       "Salary           100544.75  122391.0  "
      ]
     },
     "execution_count": 10,
     "metadata": {},
     "output_type": "execute_result"
    }
   ],
   "source": [
    "df.describe().round(2).T"
   ]
  },
  {
   "cell_type": "code",
   "execution_count": 33,
   "id": "c1faeb29",
   "metadata": {},
   "outputs": [
    {
     "data": {
      "text/html": [
       "<div>\n",
       "<style scoped>\n",
       "    .dataframe tbody tr th:only-of-type {\n",
       "        vertical-align: middle;\n",
       "    }\n",
       "\n",
       "    .dataframe tbody tr th {\n",
       "        vertical-align: top;\n",
       "    }\n",
       "\n",
       "    .dataframe thead th {\n",
       "        text-align: right;\n",
       "    }\n",
       "</style>\n",
       "<table border=\"1\" class=\"dataframe\">\n",
       "  <thead>\n",
       "    <tr style=\"text-align: right;\">\n",
       "      <th></th>\n",
       "      <th>years_of_experience</th>\n",
       "      <th>salary</th>\n",
       "    </tr>\n",
       "  </thead>\n",
       "  <tbody>\n",
       "    <tr>\n",
       "      <th>0</th>\n",
       "      <td>1.1</td>\n",
       "      <td>39343.0</td>\n",
       "    </tr>\n",
       "  </tbody>\n",
       "</table>\n",
       "</div>"
      ],
      "text/plain": [
       "   years_of_experience   salary\n",
       "0                  1.1  39343.0"
      ]
     },
     "execution_count": 33,
     "metadata": {},
     "output_type": "execute_result"
    }
   ],
   "source": [
    "df = df.rename({'YearsExperience':'years_of_experience'},axis=1)\n",
    "df = df.rename({'Salary':'salary'},axis=1)\n",
    "df.head(1)"
   ]
  },
  {
   "cell_type": "markdown",
   "id": "bc14b6ef",
   "metadata": {},
   "source": [
    "#### The independent variable is years_of_experience and dependent variable is salary."
   ]
  },
  {
   "cell_type": "code",
   "execution_count": 12,
   "id": "94d721db",
   "metadata": {},
   "outputs": [
    {
     "data": {
      "image/png": "[encoded data removed]",
      "text/plain": [
       "<Figure size 432x288 with 3 Axes>"
      ]
     },
     "metadata": {},
     "output_type": "display_data"
    }
   ],
   "source": [
    "sns.set()\n",
    "\n",
    "fig,axes=plt.subplots(1,3)\n",
    "fig.suptitle('Distribution of data of Independent variable - years of experience')\n",
    "sns.boxplot(data=df,y='years_of_experience',color='cyan',ax=axes[0])\n",
    "axes[0].set_title('Boxplot of yrs of exp')\n",
    "sns.kdeplot(data=df,x='years_of_experience',fill=True,color='cyan',ax=axes[1])\n",
    "axes[1].set_title('Density plot of yrs of exp')\n",
    "sns.histplot(data=df,x='years_of_experience',color='cyan',ax=axes[2])\n",
    "axes[2].set_title('Histogram of yrs of exp')\n",
    "\n",
    "plt.tight_layout();"
   ]
  },
  {
   "cell_type": "markdown",
   "id": "3312bef5",
   "metadata": {},
   "source": [
    "#### From the boxplot we can conclude there are no outliers on the independent variable."
   ]
  },
  {
   "cell_type": "code",
   "execution_count": 14,
   "id": "19cc7996",
   "metadata": {},
   "outputs": [
    {
     "data": {
      "image/png": "[encoded data removed]",
      "text/plain": [
       "<Figure size 432x288 with 1 Axes>"
      ]
     },
     "metadata": {},
     "output_type": "display_data"
    }
   ],
   "source": [
    "import warnings\n",
    "warnings.filterwarnings(\"ignore\", category=FutureWarning)\n",
    "sns.distplot(df['years_of_experience'],kde=True,color='red')\n",
    "plt.title('Displot of years of experience');"
   ]
  },
  {
   "cell_type": "code",
   "execution_count": 15,
   "id": "72b9d125",
   "metadata": {},
   "outputs": [
    {
     "data": {
      "text/plain": [
       "ShapiroResult(statistic=0.9420627355575562, pvalue=0.10337740182876587)"
      ]
     },
     "execution_count": 15,
     "metadata": {},
     "output_type": "execute_result"
    }
   ],
   "source": [
    "# Shapiro-Wilk test\n",
    "stats.shapiro(df['years_of_experience'])"
   ]
  },
  {
   "cell_type": "markdown",
   "id": "3ef0db80",
   "metadata": {},
   "source": [
    "##### As per shapiro wilk test pvalue = 0.1 which is > 0.05 so the data can be considered as normally distributed, though linear regression requires only the error component to be normally distributed."
   ]
  },
  {
   "cell_type": "markdown",
   "id": "27bee58c",
   "metadata": {},
   "source": [
    "### Assumptions of Linear Regression\n",
    "#### -- Linear relationship between the dependent and the independent variables\n",
    "#### -- Normally distributed error component\n",
    "#### -- No multicollinearity (applies in case of multiple linear regression)\n",
    "#### -- No heteroskedasticity, the variance of residuals must be constant across the predicted values"
   ]
  },
  {
   "cell_type": "markdown",
   "id": "d7fa3f2e",
   "metadata": {},
   "source": [
    "### Check for Linearity"
   ]
  },
  {
   "cell_type": "code",
   "execution_count": 16,
   "id": "a361d10f",
   "metadata": {},
   "outputs": [
    {
     "data": {
      "image/png": "[encoded data removed]",
      "text/plain": [
       "<Figure size 360x360 with 1 Axes>"
      ]
     },
     "metadata": {},
     "output_type": "display_data"
    }
   ],
   "source": [
    "sns.lmplot(x='years_of_experience',y='salary',data=df,order=1);"
   ]
  },
  {
   "cell_type": "markdown",
   "id": "dea8a0b2",
   "metadata": {},
   "source": [
    "##### As the years of experience has increased salary also increased. So the independent and dependent variable have linear relationship"
   ]
  },
  {
   "cell_type": "code",
   "execution_count": 17,
   "id": "f783eeca",
   "metadata": {},
   "outputs": [
    {
     "data": {
      "image/png": "[encoded data removed]",
      "text/plain": [
       "<Figure size 432x288 with 2 Axes>"
      ]
     },
     "metadata": {},
     "output_type": "display_data"
    }
   ],
   "source": [
    "correlation = df.corr()\n",
    "sns.heatmap(data=correlation,\n",
    "           vmin=-1,vmax=1,\n",
    "           cmap='plasma',annot=True);"
   ]
  },
  {
   "cell_type": "markdown",
   "id": "e92a5111",
   "metadata": {},
   "source": [
    "#### 0.98 shows strong positive correlation between years of experience and salary."
   ]
  },
  {
   "cell_type": "code",
   "execution_count": 20,
   "id": "e1d3fe7e",
   "metadata": {},
   "outputs": [
    {
     "data": {
      "image/png": "[encoded data removed]",
      "text/plain": [
       "<Figure size 432x432 with 3 Axes>"
      ]
     },
     "metadata": {},
     "output_type": "display_data"
    }
   ],
   "source": [
    "sns.jointplot(data=df,x='years_of_experience',y='salary',kind='reg',color='maroon');"
   ]
  },
  {
   "cell_type": "markdown",
   "id": "99befb72",
   "metadata": {},
   "source": [
    "### Split the dataset into dependent and independent variables as x and y"
   ]
  },
  {
   "cell_type": "code",
   "execution_count": 34,
   "id": "802de52d",
   "metadata": {},
   "outputs": [
    {
     "name": "stdout",
     "output_type": "stream",
     "text": [
      "Shape of x= (30, 1)\n",
      "Shape of y= (30,)\n"
     ]
    }
   ],
   "source": [
    "x = df.drop('salary',axis=1)\n",
    "y = df['salary']\n",
    "print('Shape of x=',x.shape)\n",
    "print('Shape of y=',y.shape)"
   ]
  },
  {
   "cell_type": "markdown",
   "id": "db530d80",
   "metadata": {},
   "source": [
    "### Split into train and test dataset"
   ]
  },
  {
   "cell_type": "code",
   "execution_count": 35,
   "id": "c4d465e0",
   "metadata": {},
   "outputs": [
    {
     "name": "stdout",
     "output_type": "stream",
     "text": [
      "Shape of x_train= (24, 1)\n",
      "Shape of y_train= (24,)\n",
      "Shape of x_test= (6, 1)\n",
      "Shape of y_test= (6,)\n"
     ]
    }
   ],
   "source": [
    "from sklearn.model_selection import train_test_split\n",
    "\n",
    "x_train,x_test,y_train,y_test = train_test_split(x,y,test_size=0.2,random_state=0)\n",
    "\n",
    "print('Shape of x_train=',x_train.shape)\n",
    "print('Shape of y_train=',y_train.shape)\n",
    "print('Shape of x_test=',x_test.shape)\n",
    "print('Shape of y_test=',y_test.shape)"
   ]
  },
  {
   "cell_type": "markdown",
   "id": "7f45fd94",
   "metadata": {},
   "source": [
    "### Linear Regression"
   ]
  },
  {
   "cell_type": "code",
   "execution_count": 24,
   "id": "f02212d8",
   "metadata": {},
   "outputs": [],
   "source": [
    "from sklearn.linear_model import LinearRegression"
   ]
  },
  {
   "cell_type": "code",
   "execution_count": 36,
   "id": "8ff5186b",
   "metadata": {},
   "outputs": [
    {
     "data": {
      "text/plain": [
       "LinearRegression()"
      ]
     },
     "execution_count": 36,
     "metadata": {},
     "output_type": "execute_result"
    }
   ],
   "source": [
    "lr = LinearRegression()\n",
    "lr.fit(x_train,y_train)"
   ]
  },
  {
   "cell_type": "code",
   "execution_count": 37,
   "id": "2f0f020e",
   "metadata": {},
   "outputs": [
    {
     "data": {
      "text/plain": [
       "array([9312.57512673])"
      ]
     },
     "execution_count": 37,
     "metadata": {},
     "output_type": "execute_result"
    }
   ],
   "source": [
    "lr.coef_"
   ]
  },
  {
   "cell_type": "code",
   "execution_count": 38,
   "id": "b689940e",
   "metadata": {},
   "outputs": [
    {
     "data": {
      "text/plain": [
       "26780.099150628186"
      ]
     },
     "execution_count": 38,
     "metadata": {},
     "output_type": "execute_result"
    }
   ],
   "source": [
    "lr.intercept_"
   ]
  },
  {
   "cell_type": "code",
   "execution_count": 52,
   "id": "11cfaec5",
   "metadata": {},
   "outputs": [
    {
     "data": {
      "text/plain": [
       "array([ 40748.96184072, 122699.62295594,  64961.65717022,  63099.14214487,\n",
       "       115249.56285456, 107799.50275317])"
      ]
     },
     "execution_count": 52,
     "metadata": {},
     "output_type": "execute_result"
    }
   ],
   "source": [
    "xtest_pred_salary = lr.predict(x_test)\n",
    "xtest_pred_salary"
   ]
  },
  {
   "cell_type": "code",
   "execution_count": 40,
   "id": "5e3226e5",
   "metadata": {},
   "outputs": [
    {
     "data": {
      "text/plain": [
       "2      37731.0\n",
       "28    122391.0\n",
       "13     57081.0\n",
       "10     63218.0\n",
       "26    116969.0\n",
       "24    109431.0\n",
       "Name: salary, dtype: float64"
      ]
     },
     "execution_count": 40,
     "metadata": {},
     "output_type": "execute_result"
    }
   ],
   "source": [
    "y_test"
   ]
  },
  {
   "cell_type": "code",
   "execution_count": 41,
   "id": "4c615478",
   "metadata": {},
   "outputs": [
    {
     "data": {
      "text/plain": [
       "0.988169515729126"
      ]
     },
     "execution_count": 41,
     "metadata": {},
     "output_type": "execute_result"
    }
   ],
   "source": [
    "lr.score(x_test,y_test)"
   ]
  },
  {
   "cell_type": "markdown",
   "id": "0bb2efc6",
   "metadata": {},
   "source": [
    "### So the model is 99% accurate on test dataset."
   ]
  },
  {
   "cell_type": "markdown",
   "id": "b5ef36c1",
   "metadata": {},
   "source": [
    "### Train dataset"
   ]
  },
  {
   "cell_type": "code",
   "execution_count": 55,
   "id": "00bc52bd",
   "metadata": {},
   "outputs": [
    {
     "data": {
      "text/html": [
       "<div>\n",
       "<style scoped>\n",
       "    .dataframe tbody tr th:only-of-type {\n",
       "        vertical-align: middle;\n",
       "    }\n",
       "\n",
       "    .dataframe tbody tr th {\n",
       "        vertical-align: top;\n",
       "    }\n",
       "\n",
       "    .dataframe thead th {\n",
       "        text-align: right;\n",
       "    }\n",
       "</style>\n",
       "<table border=\"1\" class=\"dataframe\">\n",
       "  <thead>\n",
       "    <tr style=\"text-align: right;\">\n",
       "      <th></th>\n",
       "      <th>yrs_exp</th>\n",
       "      <th>sal_actual</th>\n",
       "      <th>pred_sal</th>\n",
       "      <th>diff</th>\n",
       "    </tr>\n",
       "  </thead>\n",
       "  <tbody>\n",
       "    <tr>\n",
       "      <th>0</th>\n",
       "      <td>9.6</td>\n",
       "      <td>112635.0</td>\n",
       "      <td>116180.820367</td>\n",
       "      <td>-3545.820367</td>\n",
       "    </tr>\n",
       "    <tr>\n",
       "      <th>1</th>\n",
       "      <td>4.0</td>\n",
       "      <td>55794.0</td>\n",
       "      <td>64030.399658</td>\n",
       "      <td>-8236.399658</td>\n",
       "    </tr>\n",
       "    <tr>\n",
       "      <th>2</th>\n",
       "      <td>5.3</td>\n",
       "      <td>83088.0</td>\n",
       "      <td>76136.747322</td>\n",
       "      <td>6951.252678</td>\n",
       "    </tr>\n",
       "    <tr>\n",
       "      <th>3</th>\n",
       "      <td>7.9</td>\n",
       "      <td>101302.0</td>\n",
       "      <td>100349.442652</td>\n",
       "      <td>952.557348</td>\n",
       "    </tr>\n",
       "    <tr>\n",
       "      <th>4</th>\n",
       "      <td>2.9</td>\n",
       "      <td>56642.0</td>\n",
       "      <td>53786.567018</td>\n",
       "      <td>2855.432982</td>\n",
       "    </tr>\n",
       "  </tbody>\n",
       "</table>\n",
       "</div>"
      ],
      "text/plain": [
       "   yrs_exp  sal_actual       pred_sal         diff\n",
       "0      9.6    112635.0  116180.820367 -3545.820367\n",
       "1      4.0     55794.0   64030.399658 -8236.399658\n",
       "2      5.3     83088.0   76136.747322  6951.252678\n",
       "3      7.9    101302.0  100349.442652   952.557348\n",
       "4      2.9     56642.0   53786.567018  2855.432982"
      ]
     },
     "execution_count": 55,
     "metadata": {},
     "output_type": "execute_result"
    }
   ],
   "source": [
    "xtrain_pred_salary = lr.predict(x_train)\n",
    "error = y_train - xtrain_pred_salary\n",
    "df_train = pd.DataFrame(np.c_[x_train,y_train,xtrain_pred_salary,error],columns=['yrs_exp','sal_actual','pred_sal','diff'])\n",
    "df_train.head()"
   ]
  },
  {
   "cell_type": "markdown",
   "id": "38ec2a58",
   "metadata": {},
   "source": [
    "### Test dataset"
   ]
  },
  {
   "cell_type": "code",
   "execution_count": 58,
   "id": "f6758a5c",
   "metadata": {
    "scrolled": true
   },
   "outputs": [
    {
     "data": {
      "text/html": [
       "<div>\n",
       "<style scoped>\n",
       "    .dataframe tbody tr th:only-of-type {\n",
       "        vertical-align: middle;\n",
       "    }\n",
       "\n",
       "    .dataframe tbody tr th {\n",
       "        vertical-align: top;\n",
       "    }\n",
       "\n",
       "    .dataframe thead th {\n",
       "        text-align: right;\n",
       "    }\n",
       "</style>\n",
       "<table border=\"1\" class=\"dataframe\">\n",
       "  <thead>\n",
       "    <tr style=\"text-align: right;\">\n",
       "      <th></th>\n",
       "      <th>yrs_exp</th>\n",
       "      <th>sal_actual</th>\n",
       "      <th>pred_sal</th>\n",
       "      <th>diff</th>\n",
       "    </tr>\n",
       "  </thead>\n",
       "  <tbody>\n",
       "    <tr>\n",
       "      <th>0</th>\n",
       "      <td>1.5</td>\n",
       "      <td>37731.0</td>\n",
       "      <td>40748.961841</td>\n",
       "      <td>-3017.961841</td>\n",
       "    </tr>\n",
       "    <tr>\n",
       "      <th>1</th>\n",
       "      <td>10.3</td>\n",
       "      <td>122391.0</td>\n",
       "      <td>122699.622956</td>\n",
       "      <td>-308.622956</td>\n",
       "    </tr>\n",
       "    <tr>\n",
       "      <th>2</th>\n",
       "      <td>4.1</td>\n",
       "      <td>57081.0</td>\n",
       "      <td>64961.657170</td>\n",
       "      <td>-7880.657170</td>\n",
       "    </tr>\n",
       "    <tr>\n",
       "      <th>3</th>\n",
       "      <td>3.9</td>\n",
       "      <td>63218.0</td>\n",
       "      <td>63099.142145</td>\n",
       "      <td>118.857855</td>\n",
       "    </tr>\n",
       "    <tr>\n",
       "      <th>4</th>\n",
       "      <td>9.5</td>\n",
       "      <td>116969.0</td>\n",
       "      <td>115249.562855</td>\n",
       "      <td>1719.437145</td>\n",
       "    </tr>\n",
       "  </tbody>\n",
       "</table>\n",
       "</div>"
      ],
      "text/plain": [
       "   yrs_exp  sal_actual       pred_sal         diff\n",
       "0      1.5     37731.0   40748.961841 -3017.961841\n",
       "1     10.3    122391.0  122699.622956  -308.622956\n",
       "2      4.1     57081.0   64961.657170 -7880.657170\n",
       "3      3.9     63218.0   63099.142145   118.857855\n",
       "4      9.5    116969.0  115249.562855  1719.437145"
      ]
     },
     "execution_count": 58,
     "metadata": {},
     "output_type": "execute_result"
    }
   ],
   "source": [
    "error_t = y_test - xtest_pred_salary\n",
    "df_test = pd.DataFrame(np.c_[x_test,y_test,xtest_pred_salary,error_t],columns=['yrs_exp','sal_actual','pred_sal','diff'])\n",
    "df_test.head()"
   ]
  },
  {
   "cell_type": "markdown",
   "id": "57b41da3",
   "metadata": {},
   "source": [
    "### Visualization of Train and Test dataset"
   ]
  },
  {
   "cell_type": "code",
   "execution_count": 61,
   "id": "0a92ce61",
   "metadata": {},
   "outputs": [
    {
     "data": {
      "image/png": "[encoded data removed]",
      "text/plain": [
       "<Figure size 432x288 with 1 Axes>"
      ]
     },
     "metadata": {},
     "output_type": "display_data"
    }
   ],
   "source": [
    "sns.scatterplot(x='yrs_exp',y='sal_actual',data=df_train)\n",
    "sns.lineplot(data=df_train,x='yrs_exp',y='pred_sal')\n",
    "plt.title('Regression plot of Train dataset');"
   ]
  },
  {
   "cell_type": "code",
   "execution_count": 60,
   "id": "94132928",
   "metadata": {},
   "outputs": [
    {
     "data": {
      "image/png": "[encoded data removed]",
      "text/plain": [
       "<Figure size 432x288 with 1 Axes>"
      ]
     },
     "metadata": {},
     "output_type": "display_data"
    }
   ],
   "source": [
    "sns.scatterplot(x='yrs_exp',y='sal_actual',data=df_test)\n",
    "sns.lineplot(data=df_test,x='yrs_exp',y='pred_sal')\n",
    "plt.title('Regression plot of Test dataset');"
   ]
  },
  {
   "cell_type": "markdown",
   "id": "05792fbb",
   "metadata": {},
   "source": [
    "#### Normal distribution of error :"
   ]
  },
  {
   "cell_type": "code",
   "execution_count": 62,
   "id": "44630d10",
   "metadata": {},
   "outputs": [
    {
     "data": {
      "image/png": "[encoded data removed]",
      "text/plain": [
       "<Figure size 432x288 with 1 Axes>"
      ]
     },
     "metadata": {},
     "output_type": "display_data"
    }
   ],
   "source": [
    "stats.probplot(df_train['diff'],dist='norm',plot=plt)\n",
    "plt.title('Probability plot of train dataset');"
   ]
  },
  {
   "cell_type": "code",
   "execution_count": 63,
   "id": "feab1ae0",
   "metadata": {},
   "outputs": [
    {
     "data": {
      "image/png": "[encoded data removed]",
      "text/plain": [
       "<Figure size 432x288 with 1 Axes>"
      ]
     },
     "metadata": {},
     "output_type": "display_data"
    }
   ],
   "source": [
    "stats.probplot(df_test['diff'],dist='norm',plot=plt)\n",
    "plt.title('Probability plot of test dataset');"
   ]
  },
  {
   "cell_type": "markdown",
   "id": "37e94a8e",
   "metadata": {},
   "source": [
    "#### Homoscedasticity :"
   ]
  },
  {
   "cell_type": "code",
   "execution_count": 68,
   "id": "04daae4d",
   "metadata": {},
   "outputs": [
    {
     "data": {
      "image/png": "[encoded data removed]",
      "text/plain": [
       "<Figure size 432x288 with 1 Axes>"
      ]
     },
     "metadata": {},
     "output_type": "display_data"
    }
   ],
   "source": [
    "sns.scatterplot(x='yrs_exp',y='diff',data=df_train)\n",
    "plt.title('Train dataset');"
   ]
  },
  {
   "cell_type": "code",
   "execution_count": 69,
   "id": "c49d90cc",
   "metadata": {},
   "outputs": [
    {
     "data": {
      "image/png": "[encoded data removed]",
      "text/plain": [
       "<Figure size 432x288 with 1 Axes>"
      ]
     },
     "metadata": {},
     "output_type": "display_data"
    }
   ],
   "source": [
    "sns.scatterplot(x='yrs_exp',y='diff',data=df_test)\n",
    "plt.title('Test dataset');"
   ]
  },
  {
   "cell_type": "markdown",
   "id": "398350e6",
   "metadata": {},
   "source": [
    "##### The error points are equally distributed - means constant variance."
   ]
  },
  {
   "cell_type": "markdown",
   "id": "ea082e67",
   "metadata": {},
   "source": [
    "### By using statsmodels.formula.api (another method)"
   ]
  },
  {
   "cell_type": "markdown",
   "id": "7520117b",
   "metadata": {},
   "source": [
    "### Log transformation"
   ]
  },
  {
   "cell_type": "code",
   "execution_count": 75,
   "id": "eeeee981",
   "metadata": {},
   "outputs": [],
   "source": [
    "import statsmodels.formula.api as smf"
   ]
  },
  {
   "cell_type": "code",
   "execution_count": 76,
   "id": "baf67479",
   "metadata": {},
   "outputs": [
    {
     "data": {
      "text/html": [
       "<div>\n",
       "<style scoped>\n",
       "    .dataframe tbody tr th:only-of-type {\n",
       "        vertical-align: middle;\n",
       "    }\n",
       "\n",
       "    .dataframe tbody tr th {\n",
       "        vertical-align: top;\n",
       "    }\n",
       "\n",
       "    .dataframe thead th {\n",
       "        text-align: right;\n",
       "    }\n",
       "</style>\n",
       "<table border=\"1\" class=\"dataframe\">\n",
       "  <thead>\n",
       "    <tr style=\"text-align: right;\">\n",
       "      <th></th>\n",
       "      <th>years_of_experience</th>\n",
       "      <th>salary</th>\n",
       "    </tr>\n",
       "  </thead>\n",
       "  <tbody>\n",
       "    <tr>\n",
       "      <th>0</th>\n",
       "      <td>1.1</td>\n",
       "      <td>39343.0</td>\n",
       "    </tr>\n",
       "    <tr>\n",
       "      <th>1</th>\n",
       "      <td>1.3</td>\n",
       "      <td>46205.0</td>\n",
       "    </tr>\n",
       "    <tr>\n",
       "      <th>2</th>\n",
       "      <td>1.5</td>\n",
       "      <td>37731.0</td>\n",
       "    </tr>\n",
       "    <tr>\n",
       "      <th>3</th>\n",
       "      <td>2.0</td>\n",
       "      <td>43525.0</td>\n",
       "    </tr>\n",
       "    <tr>\n",
       "      <th>4</th>\n",
       "      <td>2.2</td>\n",
       "      <td>39891.0</td>\n",
       "    </tr>\n",
       "  </tbody>\n",
       "</table>\n",
       "</div>"
      ],
      "text/plain": [
       "   years_of_experience   salary\n",
       "0                  1.1  39343.0\n",
       "1                  1.3  46205.0\n",
       "2                  1.5  37731.0\n",
       "3                  2.0  43525.0\n",
       "4                  2.2  39891.0"
      ]
     },
     "execution_count": 76,
     "metadata": {},
     "output_type": "execute_result"
    }
   ],
   "source": [
    "df.head()"
   ]
  },
  {
   "cell_type": "code",
   "execution_count": 77,
   "id": "54532a69",
   "metadata": {},
   "outputs": [
    {
     "data": {
      "text/html": [
       "<table class=\"simpletable\">\n",
       "<caption>OLS Regression Results</caption>\n",
       "<tr>\n",
       "  <th>Dep. Variable:</th>    <td>years_of_experience</td> <th>  R-squared:         </th> <td>   0.957</td>\n",
       "</tr>\n",
       "<tr>\n",
       "  <th>Model:</th>                    <td>OLS</td>         <th>  Adj. R-squared:    </th> <td>   0.955</td>\n",
       "</tr>\n",
       "<tr>\n",
       "  <th>Method:</th>              <td>Least Squares</td>    <th>  F-statistic:       </th> <td>   622.5</td>\n",
       "</tr>\n",
       "<tr>\n",
       "  <th>Date:</th>              <td>Mon, 07 Nov 2022</td>   <th>  Prob (F-statistic):</th> <td>1.14e-20</td>\n",
       "</tr>\n",
       "<tr>\n",
       "  <th>Time:</th>                  <td>06:31:45</td>       <th>  Log-Likelihood:    </th> <td> -26.168</td>\n",
       "</tr>\n",
       "<tr>\n",
       "  <th>No. Observations:</th>       <td>    30</td>        <th>  AIC:               </th> <td>   56.34</td>\n",
       "</tr>\n",
       "<tr>\n",
       "  <th>Df Residuals:</th>           <td>    28</td>        <th>  BIC:               </th> <td>   59.14</td>\n",
       "</tr>\n",
       "<tr>\n",
       "  <th>Df Model:</th>               <td>     1</td>        <th>                     </th>     <td> </td>   \n",
       "</tr>\n",
       "<tr>\n",
       "  <th>Covariance Type:</th>       <td>nonrobust</td>      <th>                     </th>     <td> </td>   \n",
       "</tr>\n",
       "</table>\n",
       "<table class=\"simpletable\">\n",
       "<tr>\n",
       "      <td></td>         <th>coef</th>     <th>std err</th>      <th>t</th>      <th>P>|t|</th>  <th>[0.025</th>    <th>0.975]</th>  \n",
       "</tr>\n",
       "<tr>\n",
       "  <th>Intercept</th> <td>   -2.3832</td> <td>    0.327</td> <td>   -7.281</td> <td> 0.000</td> <td>   -3.054</td> <td>   -1.713</td>\n",
       "</tr>\n",
       "<tr>\n",
       "  <th>salary</th>    <td>    0.0001</td> <td> 4.06e-06</td> <td>   24.950</td> <td> 0.000</td> <td>  9.3e-05</td> <td>    0.000</td>\n",
       "</tr>\n",
       "</table>\n",
       "<table class=\"simpletable\">\n",
       "<tr>\n",
       "  <th>Omnibus:</th>       <td> 3.544</td> <th>  Durbin-Watson:     </th> <td>   1.587</td>\n",
       "</tr>\n",
       "<tr>\n",
       "  <th>Prob(Omnibus):</th> <td> 0.170</td> <th>  Jarque-Bera (JB):  </th> <td>   2.094</td>\n",
       "</tr>\n",
       "<tr>\n",
       "  <th>Skew:</th>          <td>-0.412</td> <th>  Prob(JB):          </th> <td>   0.351</td>\n",
       "</tr>\n",
       "<tr>\n",
       "  <th>Kurtosis:</th>      <td> 2.003</td> <th>  Cond. No.          </th> <td>2.41e+05</td>\n",
       "</tr>\n",
       "</table><br/><br/>Notes:<br/>[1] Standard Errors assume that the covariance matrix of the errors is correctly specified.<br/>[2] The condition number is large, 2.41e+05. This might indicate that there are<br/>strong multicollinearity or other numerical problems."
      ],
      "text/plain": [
       "<class 'statsmodels.iolib.summary.Summary'>\n",
       "\"\"\"\n",
       "                             OLS Regression Results                            \n",
       "===============================================================================\n",
       "Dep. Variable:     years_of_experience   R-squared:                       0.957\n",
       "Model:                             OLS   Adj. R-squared:                  0.955\n",
       "Method:                  Least Squares   F-statistic:                     622.5\n",
       "Date:                 Mon, 07 Nov 2022   Prob (F-statistic):           1.14e-20\n",
       "Time:                         06:31:45   Log-Likelihood:                -26.168\n",
       "No. Observations:                   30   AIC:                             56.34\n",
       "Df Residuals:                       28   BIC:                             59.14\n",
       "Df Model:                            1                                         \n",
       "Covariance Type:             nonrobust                                         \n",
       "==============================================================================\n",
       "                 coef    std err          t      P>|t|      [0.025      0.975]\n",
       "------------------------------------------------------------------------------\n",
       "Intercept     -2.3832      0.327     -7.281      0.000      -3.054      -1.713\n",
       "salary         0.0001   4.06e-06     24.950      0.000     9.3e-05       0.000\n",
       "==============================================================================\n",
       "Omnibus:                        3.544   Durbin-Watson:                   1.587\n",
       "Prob(Omnibus):                  0.170   Jarque-Bera (JB):                2.094\n",
       "Skew:                          -0.412   Prob(JB):                        0.351\n",
       "Kurtosis:                       2.003   Cond. No.                     2.41e+05\n",
       "==============================================================================\n",
       "\n",
       "Notes:\n",
       "[1] Standard Errors assume that the covariance matrix of the errors is correctly specified.\n",
       "[2] The condition number is large, 2.41e+05. This might indicate that there are\n",
       "strong multicollinearity or other numerical problems.\n",
       "\"\"\""
      ]
     },
     "execution_count": 77,
     "metadata": {},
     "output_type": "execute_result"
    }
   ],
   "source": [
    "model = smf.ols('years_of_experience~salary',df).fit()\n",
    "model.summary()"
   ]
  },
  {
   "cell_type": "markdown",
   "id": "26f80c0e",
   "metadata": {},
   "source": [
    "### Square root transformation"
   ]
  },
  {
   "cell_type": "code",
   "execution_count": 78,
   "id": "c7aa5df1",
   "metadata": {},
   "outputs": [
    {
     "data": {
      "text/html": [
       "<table class=\"simpletable\">\n",
       "<caption>OLS Regression Results</caption>\n",
       "<tr>\n",
       "  <th>Dep. Variable:</th>    <td>np.sqrt(years_of_experience)</td> <th>  R-squared:         </th> <td>   0.942</td>\n",
       "</tr>\n",
       "<tr>\n",
       "  <th>Model:</th>                         <td>OLS</td>             <th>  Adj. R-squared:    </th> <td>   0.940</td>\n",
       "</tr>\n",
       "<tr>\n",
       "  <th>Method:</th>                   <td>Least Squares</td>        <th>  F-statistic:       </th> <td>   454.3</td>\n",
       "</tr>\n",
       "<tr>\n",
       "  <th>Date:</th>                   <td>Mon, 07 Nov 2022</td>       <th>  Prob (F-statistic):</th> <td>7.58e-19</td>\n",
       "</tr>\n",
       "<tr>\n",
       "  <th>Time:</th>                       <td>06:34:57</td>           <th>  Log-Likelihood:    </th> <td>  14.149</td>\n",
       "</tr>\n",
       "<tr>\n",
       "  <th>No. Observations:</th>            <td>    30</td>            <th>  AIC:               </th> <td>  -24.30</td>\n",
       "</tr>\n",
       "<tr>\n",
       "  <th>Df Residuals:</th>                <td>    28</td>            <th>  BIC:               </th> <td>  -21.49</td>\n",
       "</tr>\n",
       "<tr>\n",
       "  <th>Df Model:</th>                    <td>     1</td>            <th>                     </th>     <td> </td>   \n",
       "</tr>\n",
       "<tr>\n",
       "  <th>Covariance Type:</th>            <td>nonrobust</td>          <th>                     </th>     <td> </td>   \n",
       "</tr>\n",
       "</table>\n",
       "<table class=\"simpletable\">\n",
       "<tr>\n",
       "         <td></td>            <th>coef</th>     <th>std err</th>      <th>t</th>      <th>P>|t|</th>  <th>[0.025</th>    <th>0.975]</th>  \n",
       "</tr>\n",
       "<tr>\n",
       "  <th>Intercept</th>       <td>   -1.1612</td> <td>    0.161</td> <td>   -7.208</td> <td> 0.000</td> <td>   -1.491</td> <td>   -0.831</td>\n",
       "</tr>\n",
       "<tr>\n",
       "  <th>np.sqrt(salary)</th> <td>    0.0125</td> <td>    0.001</td> <td>   21.315</td> <td> 0.000</td> <td>    0.011</td> <td>    0.014</td>\n",
       "</tr>\n",
       "</table>\n",
       "<table class=\"simpletable\">\n",
       "<tr>\n",
       "  <th>Omnibus:</th>       <td> 1.382</td> <th>  Durbin-Watson:     </th> <td>   1.292</td>\n",
       "</tr>\n",
       "<tr>\n",
       "  <th>Prob(Omnibus):</th> <td> 0.501</td> <th>  Jarque-Bera (JB):  </th> <td>   1.219</td>\n",
       "</tr>\n",
       "<tr>\n",
       "  <th>Skew:</th>          <td>-0.461</td> <th>  Prob(JB):          </th> <td>   0.544</td>\n",
       "</tr>\n",
       "<tr>\n",
       "  <th>Kurtosis:</th>      <td> 2.646</td> <th>  Cond. No.          </th> <td>1.56e+03</td>\n",
       "</tr>\n",
       "</table><br/><br/>Notes:<br/>[1] Standard Errors assume that the covariance matrix of the errors is correctly specified.<br/>[2] The condition number is large, 1.56e+03. This might indicate that there are<br/>strong multicollinearity or other numerical problems."
      ],
      "text/plain": [
       "<class 'statsmodels.iolib.summary.Summary'>\n",
       "\"\"\"\n",
       "                                 OLS Regression Results                                 \n",
       "========================================================================================\n",
       "Dep. Variable:     np.sqrt(years_of_experience)   R-squared:                       0.942\n",
       "Model:                                      OLS   Adj. R-squared:                  0.940\n",
       "Method:                           Least Squares   F-statistic:                     454.3\n",
       "Date:                          Mon, 07 Nov 2022   Prob (F-statistic):           7.58e-19\n",
       "Time:                                  06:34:57   Log-Likelihood:                 14.149\n",
       "No. Observations:                            30   AIC:                            -24.30\n",
       "Df Residuals:                                28   BIC:                            -21.49\n",
       "Df Model:                                     1                                         \n",
       "Covariance Type:                      nonrobust                                         \n",
       "===================================================================================\n",
       "                      coef    std err          t      P>|t|      [0.025      0.975]\n",
       "-----------------------------------------------------------------------------------\n",
       "Intercept          -1.1612      0.161     -7.208      0.000      -1.491      -0.831\n",
       "np.sqrt(salary)     0.0125      0.001     21.315      0.000       0.011       0.014\n",
       "==============================================================================\n",
       "Omnibus:                        1.382   Durbin-Watson:                   1.292\n",
       "Prob(Omnibus):                  0.501   Jarque-Bera (JB):                1.219\n",
       "Skew:                          -0.461   Prob(JB):                        0.544\n",
       "Kurtosis:                       2.646   Cond. No.                     1.56e+03\n",
       "==============================================================================\n",
       "\n",
       "Notes:\n",
       "[1] Standard Errors assume that the covariance matrix of the errors is correctly specified.\n",
       "[2] The condition number is large, 1.56e+03. This might indicate that there are\n",
       "strong multicollinearity or other numerical problems.\n",
       "\"\"\""
      ]
     },
     "execution_count": 78,
     "metadata": {},
     "output_type": "execute_result"
    }
   ],
   "source": [
    "model1 = smf.ols('np.sqrt(years_of_experience)~np.sqrt(salary)',df).fit()\n",
    "model1.summary()"
   ]
  },
  {
   "cell_type": "markdown",
   "id": "f11abd42",
   "metadata": {},
   "source": [
    "### Cube root transformation"
   ]
  },
  {
   "cell_type": "code",
   "execution_count": 79,
   "id": "259f13e5",
   "metadata": {},
   "outputs": [
    {
     "data": {
      "text/html": [
       "<table class=\"simpletable\">\n",
       "<caption>OLS Regression Results</caption>\n",
       "<tr>\n",
       "  <th>Dep. Variable:</th>    <td>np.cbrt(years_of_experience)</td> <th>  R-squared:         </th> <td>   0.932</td>\n",
       "</tr>\n",
       "<tr>\n",
       "  <th>Model:</th>                         <td>OLS</td>             <th>  Adj. R-squared:    </th> <td>   0.930</td>\n",
       "</tr>\n",
       "<tr>\n",
       "  <th>Method:</th>                   <td>Least Squares</td>        <th>  F-statistic:       </th> <td>   386.5</td>\n",
       "</tr>\n",
       "<tr>\n",
       "  <th>Date:</th>                   <td>Mon, 07 Nov 2022</td>       <th>  Prob (F-statistic):</th> <td>6.37e-18</td>\n",
       "</tr>\n",
       "<tr>\n",
       "  <th>Time:</th>                       <td>06:36:41</td>           <th>  Log-Likelihood:    </th> <td>  31.493</td>\n",
       "</tr>\n",
       "<tr>\n",
       "  <th>No. Observations:</th>            <td>    30</td>            <th>  AIC:               </th> <td>  -58.99</td>\n",
       "</tr>\n",
       "<tr>\n",
       "  <th>Df Residuals:</th>                <td>    28</td>            <th>  BIC:               </th> <td>  -56.18</td>\n",
       "</tr>\n",
       "<tr>\n",
       "  <th>Df Model:</th>                    <td>     1</td>            <th>                     </th>     <td> </td>   \n",
       "</tr>\n",
       "<tr>\n",
       "  <th>Covariance Type:</th>            <td>nonrobust</td>          <th>                     </th>     <td> </td>   \n",
       "</tr>\n",
       "</table>\n",
       "<table class=\"simpletable\">\n",
       "<tr>\n",
       "         <td></td>            <th>coef</th>     <th>std err</th>      <th>t</th>      <th>P>|t|</th>  <th>[0.025</th>    <th>0.975]</th>  \n",
       "</tr>\n",
       "<tr>\n",
       "  <th>Intercept</th>       <td>   -0.9290</td> <td>    0.134</td> <td>   -6.937</td> <td> 0.000</td> <td>   -1.203</td> <td>   -0.655</td>\n",
       "</tr>\n",
       "<tr>\n",
       "  <th>np.cbrt(salary)</th> <td>    0.0626</td> <td>    0.003</td> <td>   19.659</td> <td> 0.000</td> <td>    0.056</td> <td>    0.069</td>\n",
       "</tr>\n",
       "</table>\n",
       "<table class=\"simpletable\">\n",
       "<tr>\n",
       "  <th>Omnibus:</th>       <td> 2.479</td> <th>  Durbin-Watson:     </th> <td>   1.156</td>\n",
       "</tr>\n",
       "<tr>\n",
       "  <th>Prob(Omnibus):</th> <td> 0.290</td> <th>  Jarque-Bera (JB):  </th> <td>   1.612</td>\n",
       "</tr>\n",
       "<tr>\n",
       "  <th>Skew:</th>          <td>-0.564</td> <th>  Prob(JB):          </th> <td>   0.447</td>\n",
       "</tr>\n",
       "<tr>\n",
       "  <th>Kurtosis:</th>      <td> 3.124</td> <th>  Cond. No.          </th> <td>    352.</td>\n",
       "</tr>\n",
       "</table><br/><br/>Notes:<br/>[1] Standard Errors assume that the covariance matrix of the errors is correctly specified."
      ],
      "text/plain": [
       "<class 'statsmodels.iolib.summary.Summary'>\n",
       "\"\"\"\n",
       "                                 OLS Regression Results                                 \n",
       "========================================================================================\n",
       "Dep. Variable:     np.cbrt(years_of_experience)   R-squared:                       0.932\n",
       "Model:                                      OLS   Adj. R-squared:                  0.930\n",
       "Method:                           Least Squares   F-statistic:                     386.5\n",
       "Date:                          Mon, 07 Nov 2022   Prob (F-statistic):           6.37e-18\n",
       "Time:                                  06:36:41   Log-Likelihood:                 31.493\n",
       "No. Observations:                            30   AIC:                            -58.99\n",
       "Df Residuals:                                28   BIC:                            -56.18\n",
       "Df Model:                                     1                                         \n",
       "Covariance Type:                      nonrobust                                         \n",
       "===================================================================================\n",
       "                      coef    std err          t      P>|t|      [0.025      0.975]\n",
       "-----------------------------------------------------------------------------------\n",
       "Intercept          -0.9290      0.134     -6.937      0.000      -1.203      -0.655\n",
       "np.cbrt(salary)     0.0626      0.003     19.659      0.000       0.056       0.069\n",
       "==============================================================================\n",
       "Omnibus:                        2.479   Durbin-Watson:                   1.156\n",
       "Prob(Omnibus):                  0.290   Jarque-Bera (JB):                1.612\n",
       "Skew:                          -0.564   Prob(JB):                        0.447\n",
       "Kurtosis:                       3.124   Cond. No.                         352.\n",
       "==============================================================================\n",
       "\n",
       "Notes:\n",
       "[1] Standard Errors assume that the covariance matrix of the errors is correctly specified.\n",
       "\"\"\""
      ]
     },
     "execution_count": 79,
     "metadata": {},
     "output_type": "execute_result"
    }
   ],
   "source": [
    "model2 = smf.ols('np.cbrt(years_of_experience)~np.cbrt(salary)',df).fit()\n",
    "model2.summary()"
   ]
  },
  {
   "cell_type": "markdown",
   "id": "a8c18fc7",
   "metadata": {},
   "source": [
    "#### Comparing all the models, the one without taking any transformations has given best results where r2 = 0.957"
   ]
  },
  {
   "cell_type": "markdown",
   "id": "8c615ab0",
   "metadata": {},
   "source": [
    "### Test on Custom dataset"
   ]
  },
  {
   "cell_type": "code",
   "execution_count": 73,
   "id": "8ccafc7c",
   "metadata": {},
   "outputs": [
    {
     "name": "stdout",
     "output_type": "stream",
     "text": [
      "Salary for 4 year experienced = 64030\n"
     ]
    }
   ],
   "source": [
    "import warnings\n",
    "warnings.filterwarnings(\"ignore\")\n",
    "exp = 4\n",
    "lr.predict([[exp]])[0]\n",
    "print(f\"Salary for {exp} year experienced = {int(lr.predict([[exp]])[0])}\")"
   ]
  },
  {
   "cell_type": "code",
   "execution_count": 74,
   "id": "d8bcec7a",
   "metadata": {},
   "outputs": [
    {
     "name": "stdout",
     "output_type": "stream",
     "text": [
      "Salary for 10 year experienced = 119905\n"
     ]
    }
   ],
   "source": [
    "exp = 10\n",
    "lr.predict([[exp]])[0]\n",
    "print(f\"Salary for {exp} year experienced = {int(lr.predict([[exp]])[0])}\")"
   ]
  },
  {
   "cell_type": "code",
   "execution_count": null,
   "id": "22e51083",
   "metadata": {},
   "outputs": [],
   "source": []
  }
 ],
 "metadata": {
  "kernelspec": {
   "display_name": "Python 3 (ipykernel)",
   "language": "python",
   "name": "python3"
  },
  "language_info": {
   "codemirror_mode": {
    "name": "ipython",
    "version": 3
   },
   "file_extension": ".py",
   "mimetype": "text/x-python",
   "name": "python",
   "nbconvert_exporter": "python",
   "pygments_lexer": "ipython3",
   "version": "3.9.12"
  }
 },
 "nbformat": 4,
 "nbformat_minor": 5
}
